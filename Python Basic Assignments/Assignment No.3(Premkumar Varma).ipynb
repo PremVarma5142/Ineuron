{
 "cells": [
  {
   "cell_type": "markdown",
   "id": "e3695c79",
   "metadata": {},
   "source": [
    "1. Why are functions advantageous to have in your programs?\n",
    "Ans.Functions reduce the need for duplicate code. This makes programs shorter, easier to read, and easier to update.\n",
    "\n",
    "2. When does the code in a function run: when it&#39;s specified or when it&#39;s called?\n",
    "Ans. The code of function executes when the function is called with the help of def (function name[parameter of function]) by callinf function name the code below of function starts executing.\n",
    "\n",
    "3. What statement creates a function?\n",
    "Ans. def function_name(parameter1 , parameter2 ......parameter n):\n",
    "\n",
    "4. What is the difference between a function and a function call?\n",
    "Ans. function is nothing but using def claus to create that and all staments and operation below the function. When you see statement like def function_name(parameter1 , parameter2 ......parameter n): that means you created function and function call is nothing but calling that function with help of the name that return perticular value.\n",
    "\n",
    "5. How many global scopes are there in a Python program? How many local scopes?\n",
    "Ans. There is one global scope and local will be created when function is called.\n",
    "\n",
    "6. What happens to variables in a local scope when the function call returns?\n",
    "Ans.When a function returns the local scope is destroyed and all the variables in it are forgotten.\n",
    "\n",
    "7. What is the concept of a return value? Is it possible to have a return value in an expression?\n",
    "Ans. A return value is the value that a function call evaluates to. Like any value, a return value can be used as part of an expression.\n",
    "\n",
    "8. If a function does not have a return statement, what is the return value of a call to that function?\n",
    "Ans. if there is no return value then it returns None.\n",
    "\n",
    "9. How do you make a function variable refer to the global variable?\n",
    "Ans.At global statement will force a variable in a function to refer to the global variable.\n",
    "\n",
    "10. What is the data type of None?\n",
    "Ans.NoneType\n",
    "\n",
    "11. What does the sentence import areallyourpetsnamederic do?\n",
    "Ans.That import statement imports a module named areallyourpetsnamederic .\n",
    "\n",
    "12. If you had a bacon() feature in a spam module, what would you call it after importing spam?\n",
    "Ans.  spam.bacon()\n",
    "\n",
    "13. What can you do to save a programme from crashing if it encounters an error?\n",
    "Ans. Prevents program from crashing if an error occurs. If an error occurs in a program, we don't want the program to unexpectedly crash on the user. Instead, error handling can be used to notify the user of why the error occurred and gracefully exit the process that caused the error.\n",
    "\n",
    "14. What is the purpose of the try clause? What is the purpose of the except clause?\n",
    "Ans. try used for handle the exception and test the block of code and except used for catch that try exception and handle user defined errors and responces."
   ]
  },
  {
   "cell_type": "code",
   "execution_count": 1,
   "id": "2fe1d464",
   "metadata": {},
   "outputs": [
    {
     "data": {
      "text/plain": [
       "NoneType"
      ]
     },
     "execution_count": 1,
     "metadata": {},
     "output_type": "execute_result"
    }
   ],
   "source": [
    "type(None)"
   ]
  },
  {
   "cell_type": "code",
   "execution_count": 2,
   "id": "e1f8a9ce",
   "metadata": {},
   "outputs": [
    {
     "ename": "ModuleNotFoundError",
     "evalue": "No module named 'areallyourpetsnamederic'",
     "output_type": "error",
     "traceback": [
      "\u001b[1;31m---------------------------------------------------------------------------\u001b[0m",
      "\u001b[1;31mModuleNotFoundError\u001b[0m                       Traceback (most recent call last)",
      "\u001b[1;32m<ipython-input-2-b1ea9cb2228f>\u001b[0m in \u001b[0;36m<module>\u001b[1;34m\u001b[0m\n\u001b[1;32m----> 1\u001b[1;33m \u001b[1;32mimport\u001b[0m \u001b[0mareallyourpetsnamederic\u001b[0m\u001b[1;33m\u001b[0m\u001b[1;33m\u001b[0m\u001b[0m\n\u001b[0m",
      "\u001b[1;31mModuleNotFoundError\u001b[0m: No module named 'areallyourpetsnamederic'"
     ]
    }
   ],
   "source": [
    "import areallyourpetsnamederic"
   ]
  },
  {
   "cell_type": "code",
   "execution_count": null,
   "id": "4842d255",
   "metadata": {},
   "outputs": [],
   "source": []
  }
 ],
 "metadata": {
  "kernelspec": {
   "display_name": "Python 3",
   "language": "python",
   "name": "python3"
  },
  "language_info": {
   "codemirror_mode": {
    "name": "ipython",
    "version": 3
   },
   "file_extension": ".py",
   "mimetype": "text/x-python",
   "name": "python",
   "nbconvert_exporter": "python",
   "pygments_lexer": "ipython3",
   "version": "3.7.11"
  }
 },
 "nbformat": 4,
 "nbformat_minor": 5
}

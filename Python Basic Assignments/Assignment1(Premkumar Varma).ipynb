{
 "cells": [
  {
   "cell_type": "markdown",
   "id": "2a0c2e83",
   "metadata": {},
   "source": [
    "#### PREMKUMAR SITARAM VARMA \n",
    "Assignment 1 (ineuron)"
   ]
  },
  {
   "cell_type": "markdown",
   "id": "e0e44c59",
   "metadata": {},
   "source": [
    "1. In the below elements which of them are values or an expression? eg:- values can be integer or string and expressions will be mathematical operators.\n",
    "* \n",
    "'hello'\n",
    "-87.8\n",
    "- \n",
    "/ \n",
    "+\n",
    "6 "
   ]
  },
  {
   "cell_type": "markdown",
   "id": "b9615398",
   "metadata": {},
   "source": [
    "ANS:    * --> Mathematical Operator (Expression) used to multiplication.\n",
    "    'hello'-->  It string datatype(string value)\n",
    "    -87.8 -->   float datatype(float value)\n",
    "    -     -->   Mathematical Operator used to Substraction.(Expression)\n",
    "    /     -->   Mathematical Operator used to Division but gives result in float number.(Expression)\n",
    "    +     -->   Mathematical Operator used to Addition.(Expresison)\n",
    "    6     -->   Integer datatype.(Integer value)"
   ]
  },
  {
   "cell_type": "code",
   "execution_count": 11,
   "id": "f271246c",
   "metadata": {},
   "outputs": [
    {
     "name": "stdout",
     "output_type": "stream",
     "text": [
      "24\n",
      "<class 'int'>\n"
     ]
    }
   ],
   "source": [
    "a = 12*2\n",
    "print(a)\n",
    "print(type(a))"
   ]
  },
  {
   "cell_type": "code",
   "execution_count": 12,
   "id": "7a070558",
   "metadata": {},
   "outputs": [
    {
     "name": "stdout",
     "output_type": "stream",
     "text": [
      "hello\n",
      "<class 'str'>\n"
     ]
    }
   ],
   "source": [
    "b = 'hello'\n",
    "print(b)\n",
    "print(type(b))"
   ]
  },
  {
   "cell_type": "code",
   "execution_count": 13,
   "id": "a6e7da29",
   "metadata": {},
   "outputs": [
    {
     "name": "stdout",
     "output_type": "stream",
     "text": [
      "-87.8\n",
      "<class 'float'>\n"
     ]
    }
   ],
   "source": [
    "c = -87.8\n",
    "print(c)\n",
    "print(type(c))"
   ]
  },
  {
   "cell_type": "code",
   "execution_count": 14,
   "id": "20b54ca0",
   "metadata": {},
   "outputs": [
    {
     "name": "stdout",
     "output_type": "stream",
     "text": [
      "10\n",
      "<class 'int'>\n"
     ]
    }
   ],
   "source": [
    "d = 12-2\n",
    "print(d)\n",
    "print(type(d))"
   ]
  },
  {
   "cell_type": "code",
   "execution_count": 15,
   "id": "1436ed90",
   "metadata": {},
   "outputs": [
    {
     "name": "stdout",
     "output_type": "stream",
     "text": [
      "14\n",
      "<class 'int'>\n"
     ]
    }
   ],
   "source": [
    "e = 12+2\n",
    "print(e)\n",
    "print(type(e))"
   ]
  },
  {
   "cell_type": "code",
   "execution_count": 17,
   "id": "8cff42b4",
   "metadata": {},
   "outputs": [
    {
     "name": "stdout",
     "output_type": "stream",
     "text": [
      "6.0\n",
      "6\n",
      "<class 'float'>\n",
      "<class 'int'>\n"
     ]
    }
   ],
   "source": [
    "f = 12/2 ##Gives result in float\n",
    "g = 12//2  ##Gives result in int\n",
    "print(f)\n",
    "print(g)\n",
    "print(type(f))\n",
    "print(type(g))"
   ]
  },
  {
   "cell_type": "code",
   "execution_count": 18,
   "id": "b9388de1",
   "metadata": {},
   "outputs": [
    {
     "name": "stdout",
     "output_type": "stream",
     "text": [
      "<class 'int'>\n"
     ]
    }
   ],
   "source": [
    "h = 6\n",
    "print(type(h))"
   ]
  },
  {
   "cell_type": "markdown",
   "id": "3d580b54",
   "metadata": {},
   "source": [
    "2. What is the difference between string and variable?\n",
    "ANS: string is type of datatype which can be used for charectors but to hold that specific charector we need variable which we can assign our charector. A string is a collection of one or more charector put in single , double or triple quote which can be represented by (str) "
   ]
  },
  {
   "cell_type": "code",
   "execution_count": 20,
   "id": "15903bb2",
   "metadata": {},
   "outputs": [
    {
     "data": {
      "text/plain": [
       "str"
      ]
     },
     "execution_count": 20,
     "metadata": {},
     "output_type": "execute_result"
    }
   ],
   "source": [
    "# eg of string is\n",
    "p = 'Prem' # here p is my variable and 'Prem' is my string\n",
    "type(p)"
   ]
  },
  {
   "cell_type": "markdown",
   "id": "cf18612e",
   "metadata": {},
   "source": [
    "3. Describe three different data types.\n",
    "ANS: There are various datatypes like list , string , int , float , boolean , tuple , set etc this all built in datatypes\n",
    "1) List: An ordered sequence of items is called List. It is a very flexible data type in Python. There is no need for the value in the list to be of the same data type. The List is the data type that is highly used data type in Python.  \n",
    "\n",
    "2)Tuple: A Tuple is a sequence of items that are in order, and it is not possible to modify the Tuples. The main difference list and tuples are that tuple is immutable, which means it cannot be altered. Tuples are generally faster than the list data type in Python because it cannot be changed or modified like list datatype.\n",
    "\n",
    "3)String: A String is a sequence of Unicode characters. In Python, String is called str. Strings are represented by using Double quotes or single quotes. If the strings are multiple, then it can be denoted by the use of triple quotes \" \" ,' ' or \"\"\"  \"\"\". "
   ]
  },
  {
   "cell_type": "code",
   "execution_count": 26,
   "id": "e6da23f8",
   "metadata": {},
   "outputs": [
    {
     "name": "stdout",
     "output_type": "stream",
     "text": [
      "[1, 2, 3, 'PREM', 12.8, True]\n",
      "<class 'list'>\n"
     ]
    }
   ],
   "source": [
    "# 1)List\n",
    "a = [1,2,3 ,   \"PREM\" , 12.8 , True ] # collection of all datatypes\n",
    "print(a)\n",
    "print(type(a))"
   ]
  },
  {
   "cell_type": "code",
   "execution_count": 27,
   "id": "65135c18",
   "metadata": {},
   "outputs": [
    {
     "name": "stdout",
     "output_type": "stream",
     "text": [
      "(1, 2, 3, 4, 5)\n",
      "<class 'tuple'>\n"
     ]
    }
   ],
   "source": [
    "# 2)Tuple\n",
    "b = (1 ,2 ,3 ,4 ,5)\n",
    "print(b)\n",
    "print(type(b))"
   ]
  },
  {
   "cell_type": "code",
   "execution_count": 31,
   "id": "84595cc0",
   "metadata": {},
   "outputs": [
    {
     "name": "stdout",
     "output_type": "stream",
     "text": [
      "Prem\n",
      "<class 'str'>\n"
     ]
    }
   ],
   "source": [
    "#3) String\n",
    "c = 'Prem' \n",
    "print(c) \n",
    "print(type(c))\n",
    "d = \"Prem\"\n",
    "e = \"\"\"Hello there my name is Prem Varma\"\"\"\n"
   ]
  },
  {
   "cell_type": "markdown",
   "id": "fef1facd",
   "metadata": {},
   "source": [
    "4. What is an expression made up of? What do all expressions do?\n",
    "ANS: An expression is an instruction that combines values and operators and always evaluates down to a single value. Expression can be made up of operators , values , variables. like a+b-5 is expression."
   ]
  },
  {
   "cell_type": "code",
   "execution_count": 34,
   "id": "58e89b9a",
   "metadata": {},
   "outputs": [
    {
     "name": "stdout",
     "output_type": "stream",
     "text": [
      "20\n",
      "<class 'int'>\n"
     ]
    }
   ],
   "source": [
    "a = 10\n",
    "b = 15\n",
    "c = a+b-5\n",
    "print(c)\n",
    "print(type(c))"
   ]
  },
  {
   "cell_type": "markdown",
   "id": "33cf834b",
   "metadata": {},
   "source": [
    "5. This assignment statements, like spam = 10. What is the difference between an expression and a statement?\n",
    "ANS:  Statements represent an action or command e.g print statements, assignment statements. Expression is a combination of variables, operations and values that yields a result value. Expressions always returns a value statement not.\n",
    "Eg of statements : loops, classes, import, def, try, except, pass, del\n",
    "Eg of Expression : a+b+5 , a+b-5 , \"PREM\" , 32+65-11"
   ]
  },
  {
   "cell_type": "markdown",
   "id": "da1d85cc",
   "metadata": {},
   "source": [
    "6. After running the following code, what does the variable bacon contain?\n",
    "bacon = 22\n",
    "bacon + 1\n",
    "ANS: When we print both in same cell result will be 22+1 that is 23 but when i check bacon variable again it will give me 22 beacuse i assign that variable 22 (=) it is assignment operator and my (+) is for addition when i assign that first bacon conatins 22 so it add 22+1 but bacon value not changed it remains 22 because using assignment operator. If u want result as 23 assign bacon = bacon +  1"
   ]
  },
  {
   "cell_type": "code",
   "execution_count": 44,
   "id": "71b1f4ff",
   "metadata": {},
   "outputs": [
    {
     "data": {
      "text/plain": [
       "23"
      ]
     },
     "execution_count": 44,
     "metadata": {},
     "output_type": "execute_result"
    }
   ],
   "source": [
    "bacon = 22\n",
    "bacon + 1"
   ]
  },
  {
   "cell_type": "code",
   "execution_count": 45,
   "id": "ffe53c29",
   "metadata": {},
   "outputs": [
    {
     "data": {
      "text/plain": [
       "22"
      ]
     },
     "execution_count": 45,
     "metadata": {},
     "output_type": "execute_result"
    }
   ],
   "source": [
    "bacon"
   ]
  },
  {
   "cell_type": "code",
   "execution_count": 46,
   "id": "2d1a4a62",
   "metadata": {},
   "outputs": [
    {
     "data": {
      "text/plain": [
       "23"
      ]
     },
     "execution_count": 46,
     "metadata": {},
     "output_type": "execute_result"
    }
   ],
   "source": [
    "bacon = bacon + 1\n",
    "bacon"
   ]
  },
  {
   "cell_type": "markdown",
   "id": "055046d7",
   "metadata": {},
   "source": [
    "7. What should the values of the following two terms be?\n",
    "'spam' + 'spamspam'  = 'spamspamspam'\n",
    "'spam' * 3           = 'spamspamspam'\n"
   ]
  },
  {
   "cell_type": "code",
   "execution_count": 47,
   "id": "dd43be67",
   "metadata": {},
   "outputs": [
    {
     "data": {
      "text/plain": [
       "'spamspamspam'"
      ]
     },
     "execution_count": 47,
     "metadata": {},
     "output_type": "execute_result"
    }
   ],
   "source": [
    "'spam' + 'spamspam'"
   ]
  },
  {
   "cell_type": "code",
   "execution_count": 48,
   "id": "5f362e94",
   "metadata": {},
   "outputs": [
    {
     "data": {
      "text/plain": [
       "'spamspamspam'"
      ]
     },
     "execution_count": 48,
     "metadata": {},
     "output_type": "execute_result"
    }
   ],
   "source": [
    "'spam' * 3"
   ]
  },
  {
   "cell_type": "markdown",
   "id": "4bc717a5",
   "metadata": {},
   "source": [
    "8. Why is eggs a valid variable name while 100 is invalid?\n",
    "ANS: A variable name must start with a letter or the underscore character. A variable name cannot start with a number. A variable name can only contain alpha-numeric characters and underscores (A-z, 0-9, and _ ) Variable names are case-sensitive (EGG or egg or E_Gg are three different variables) while 100 is not letter or the underscore character.\n",
    "\n"
   ]
  },
  {
   "cell_type": "code",
   "execution_count": 54,
   "id": "a04c87cf",
   "metadata": {},
   "outputs": [],
   "source": [
    "egg = 'Prem'\n",
    "EGG = 'Prem'\n",
    "E_Gg = 'Prem'"
   ]
  },
  {
   "cell_type": "code",
   "execution_count": 55,
   "id": "9f1b44e9",
   "metadata": {},
   "outputs": [
    {
     "ename": "SyntaxError",
     "evalue": "can't assign to literal (<ipython-input-55-b3f1ef03ddef>, line 1)",
     "output_type": "error",
     "traceback": [
      "\u001b[1;36m  File \u001b[1;32m\"<ipython-input-55-b3f1ef03ddef>\"\u001b[1;36m, line \u001b[1;32m1\u001b[0m\n\u001b[1;33m    100 = 'Prem' #Gives an error\u001b[0m\n\u001b[1;37m                                ^\u001b[0m\n\u001b[1;31mSyntaxError\u001b[0m\u001b[1;31m:\u001b[0m can't assign to literal\n"
     ]
    }
   ],
   "source": [
    "100 = 'Prem' #Gives an error"
   ]
  },
  {
   "cell_type": "markdown",
   "id": "fcec6a7b",
   "metadata": {},
   "source": [
    "9. What three functions can be used to get the integer, floating-point number, or string version of a value?\n",
    "ANS: The int(), float(), and str() functions will evaluate to the integer, floating-point number, and string versions of the value passed to them."
   ]
  },
  {
   "cell_type": "markdown",
   "id": "24baf595",
   "metadata": {},
   "source": [
    "10. Why does this expression cause an error? How can you fix it?\n",
    "'I have eaten ' + 99 + ' burritos.'\n",
    "ANS: The expression causes an error because 99 is an integer, and only strings can be concatenated to other strings with the + operator. The correct way is I have eaten ' + str(99) + ' burritos.'.\n"
   ]
  },
  {
   "cell_type": "code",
   "execution_count": 57,
   "id": "ab1dc9a2",
   "metadata": {},
   "outputs": [],
   "source": [
    "a = 'I have eaten ' + str(99) + ' burritos.'"
   ]
  },
  {
   "cell_type": "code",
   "execution_count": 61,
   "id": "09f6fe03",
   "metadata": {},
   "outputs": [
    {
     "name": "stdout",
     "output_type": "stream",
     "text": [
      "<class 'str'>\n",
      "I have eaten 99 burritos.\n"
     ]
    }
   ],
   "source": [
    "a\n",
    "print(type(a))\n",
    "print(a)"
   ]
  },
  {
   "cell_type": "code",
   "execution_count": null,
   "id": "b276afc4",
   "metadata": {},
   "outputs": [],
   "source": []
  }
 ],
 "metadata": {
  "kernelspec": {
   "display_name": "Python 3",
   "language": "python",
   "name": "python3"
  },
  "language_info": {
   "codemirror_mode": {
    "name": "ipython",
    "version": 3
   },
   "file_extension": ".py",
   "mimetype": "text/x-python",
   "name": "python",
   "nbconvert_exporter": "python",
   "pygments_lexer": "ipython3",
   "version": "3.7.11"
  }
 },
 "nbformat": 4,
 "nbformat_minor": 5
}

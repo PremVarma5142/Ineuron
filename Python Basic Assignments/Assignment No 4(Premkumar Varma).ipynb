{
 "cells": [
  {
   "cell_type": "markdown",
   "id": "aa37c46d",
   "metadata": {},
   "source": [
    "1. What exactly is []?\n",
    "Ans. In python the square brackets is called as list\n",
    "\n",
    "2. In a list of values stored in a variable called spam, how would you assign the value &#39;hello&#39; as the\n",
    "third value? (Assume [2, 4, 6, 8, 10] are in spam.)\n",
    "Ans.spam[3]='hello'\n",
    "\n",
    "Let&#39;s pretend the spam includes the list [\"a\",\"b\",\"c\",\"d\"] for the next three queries.\n",
    "\n",
    "3. What is the value of spam[int(int(&#39;3&#39; * 2) / 11)]?\n",
    "Ans. 'd' (Note that '3' * 2 is the string '33', which is passed to int() before being divided by 11. This eventually evaluates to 3. Expressions can be used wherever values are used.)\n",
    "\n",
    "4. What is the value of spam[-1]?\n",
    "Ans. d\n",
    "\n",
    "\n",
    "5. What is the value of spam[:2]?\n",
    "Ans. [a,b]\n",
    "\n",
    "Let&#39;s pretend bacon has the list [3.14,\"cat\",11,\"cat\", True] for the next three questions.\n",
    "6. What is the value of bacon.index(cat)?\n",
    "Ans. 1\n",
    "\n",
    "7. How does bacon.append(99) change the look of the list value in bacon?\n",
    "Ans. [3.14,\"cat\",11,\"cat\", True, 99]\n",
    "\n",
    "8. How does bacon.remove('cat') change the look of the list in bacon?\n",
    "Ans.[3.14, 11, 'cat', True , 99]\n",
    "\n",
    "9. What are the list concatenation and list replication operators?\n",
    "Ans. suppose i have 2 list a = [1,2,3,4] and b = [5,6,7,8] concatination means merge two list we use (+) operator to join and finally we get [1,2,3,4,5,6,7,8] while the operator for replication is *. \n",
    "\n",
    "\n",
    "\n",
    "10. What is difference between the list methods append() and insert()?\n",
    "Ans. append() insert the element  at last and insert() insert the elemnts at perticular index or anywhere in list.\n",
    "\n",
    "\n",
    "11. What are the two methods for removing items from a list?\n",
    "Ans. remove() and pop() and also del()\n",
    "\n",
    "\n",
    "12. Describe how list values and string values are identical.\n",
    "Ans.The values that make up a list are called its elements. Lists are similar to strings, which are ordered collections of characters, except that the elements of a list can have any type and for any one list, the items can be of different types.\n",
    "\n",
    "13. What&#39;s the difference between tuples and lists?\n",
    "Ans. Lists are mutable; they can have values added, removed, or changed. Tuples are immutable; they cannot be changed at all. Also, tuples are written using parentheses, (), while lists use the square brackets, [].\n",
    "\n",
    "\n",
    "14. How do you type a tuple value that only contains the integer 42?\n",
    "Ans. a = (42,)\n",
    "\n",
    "15. How do you get a list value;s tuple form? How do you get a tuple value;s list form?\n",
    "Ans. list(tuple_value) and tuple(list_value)\n",
    "\n",
    "16. Variables that &quot;contain&quot; list values are not necessarily lists themselves. Instead, what do they\n",
    "contain?\n",
    "Ans.They contain referances to list values\n",
    "\n",
    "17. How do you distinguish between copy.copy() and copy.deepcopy()?\n",
    "Ans. The copy.copy() function will do a shallow copy of a list, while the copy.deepcopy() function will do a deep copy of a list. That is, only copy.deepcopy() will duplicate any lists inside the list."
   ]
  },
  {
   "cell_type": "code",
   "execution_count": 3,
   "id": "8548c315",
   "metadata": {},
   "outputs": [
    {
     "data": {
      "text/plain": [
       "list"
      ]
     },
     "execution_count": 3,
     "metadata": {},
     "output_type": "execute_result"
    }
   ],
   "source": [
    "type([])"
   ]
  },
  {
   "cell_type": "code",
   "execution_count": 4,
   "id": "fb303e5e",
   "metadata": {},
   "outputs": [],
   "source": [
    "spam = [2, 4, 6, 8, 10]"
   ]
  },
  {
   "cell_type": "code",
   "execution_count": 5,
   "id": "f18676bf",
   "metadata": {},
   "outputs": [],
   "source": [
    "spam[3]='hello'"
   ]
  },
  {
   "cell_type": "code",
   "execution_count": 6,
   "id": "6ced3d76",
   "metadata": {},
   "outputs": [
    {
     "data": {
      "text/plain": [
       "[2, 4, 6, 'hello', 10]"
      ]
     },
     "execution_count": 6,
     "metadata": {},
     "output_type": "execute_result"
    }
   ],
   "source": [
    "spam"
   ]
  },
  {
   "cell_type": "code",
   "execution_count": 8,
   "id": "95400739",
   "metadata": {},
   "outputs": [],
   "source": [
    "a = [3.14,\"cat\",11,\"cat\", True]"
   ]
  },
  {
   "cell_type": "code",
   "execution_count": 10,
   "id": "ba77cafe",
   "metadata": {},
   "outputs": [
    {
     "data": {
      "text/plain": [
       "1"
      ]
     },
     "execution_count": 10,
     "metadata": {},
     "output_type": "execute_result"
    }
   ],
   "source": [
    "a.index('cat')"
   ]
  },
  {
   "cell_type": "code",
   "execution_count": 11,
   "id": "df4b6560",
   "metadata": {},
   "outputs": [],
   "source": [
    "a.remove('cat')"
   ]
  },
  {
   "cell_type": "code",
   "execution_count": 12,
   "id": "37231743",
   "metadata": {},
   "outputs": [
    {
     "data": {
      "text/plain": [
       "[3.14, 11, 'cat', True]"
      ]
     },
     "execution_count": 12,
     "metadata": {},
     "output_type": "execute_result"
    }
   ],
   "source": [
    "a"
   ]
  },
  {
   "cell_type": "code",
   "execution_count": 13,
   "id": "8dc494b9",
   "metadata": {},
   "outputs": [
    {
     "data": {
      "text/plain": [
       "True"
      ]
     },
     "execution_count": 13,
     "metadata": {},
     "output_type": "execute_result"
    }
   ],
   "source": [
    "a.pop()"
   ]
  },
  {
   "cell_type": "code",
   "execution_count": 14,
   "id": "99543572",
   "metadata": {},
   "outputs": [
    {
     "data": {
      "text/plain": [
       "[3.14, 11, 'cat']"
      ]
     },
     "execution_count": 14,
     "metadata": {},
     "output_type": "execute_result"
    }
   ],
   "source": [
    "a"
   ]
  },
  {
   "cell_type": "code",
   "execution_count": 15,
   "id": "b18a8c27",
   "metadata": {},
   "outputs": [
    {
     "data": {
      "text/plain": [
       "'cat'"
      ]
     },
     "execution_count": 15,
     "metadata": {},
     "output_type": "execute_result"
    }
   ],
   "source": [
    "a.pop()"
   ]
  },
  {
   "cell_type": "code",
   "execution_count": 16,
   "id": "35b888e2",
   "metadata": {},
   "outputs": [
    {
     "data": {
      "text/plain": [
       "[3.14, 11]"
      ]
     },
     "execution_count": 16,
     "metadata": {},
     "output_type": "execute_result"
    }
   ],
   "source": [
    "a"
   ]
  },
  {
   "cell_type": "code",
   "execution_count": null,
   "id": "3dfea161",
   "metadata": {},
   "outputs": [],
   "source": []
  },
  {
   "cell_type": "code",
   "execution_count": 2,
   "id": "ee4f70de",
   "metadata": {},
   "outputs": [
    {
     "data": {
      "text/plain": [
       "4"
      ]
     },
     "execution_count": 2,
     "metadata": {},
     "output_type": "execute_result"
    }
   ],
   "source": [
    "p = \"Prem\"\n",
    "len(p)"
   ]
  },
  {
   "cell_type": "code",
   "execution_count": 113,
   "id": "71f6027e",
   "metadata": {},
   "outputs": [],
   "source": [
    "def length(string):\n",
    "    counter = 0\n",
    "    for i in string:\n",
    "        counter+=1\n",
    "    return counter"
   ]
  },
  {
   "cell_type": "code",
   "execution_count": 114,
   "id": "9e702c58",
   "metadata": {},
   "outputs": [
    {
     "data": {
      "text/plain": [
       "4"
      ]
     },
     "execution_count": 114,
     "metadata": {},
     "output_type": "execute_result"
    }
   ],
   "source": [
    "length(\"Prem\")"
   ]
  },
  {
   "cell_type": "code",
   "execution_count": 101,
   "id": "ff17471b",
   "metadata": {},
   "outputs": [
    {
     "data": {
      "text/plain": [
       "9"
      ]
     },
     "execution_count": 101,
     "metadata": {},
     "output_type": "execute_result"
    }
   ],
   "source": [
    "a"
   ]
  },
  {
   "cell_type": "code",
   "execution_count": 48,
   "id": "449d7954",
   "metadata": {},
   "outputs": [
    {
     "name": "stdout",
     "output_type": "stream",
     "text": [
      "p\n",
      "r\n",
      "e\n",
      "m\n"
     ]
    }
   ],
   "source": [
    "\n",
    "for i in p:\n",
    "    print(i)"
   ]
  },
  {
   "cell_type": "code",
   "execution_count": 95,
   "id": "b25e3523",
   "metadata": {},
   "outputs": [],
   "source": [
    "p = \"Premkumar\"\n",
    "counter = 0\n",
    "for i in p:\n",
    "    counter+=1\n",
    "    a = counter\n",
    "    "
   ]
  },
  {
   "cell_type": "code",
   "execution_count": 96,
   "id": "72f5acda",
   "metadata": {},
   "outputs": [
    {
     "data": {
      "text/plain": [
       "9"
      ]
     },
     "execution_count": 96,
     "metadata": {},
     "output_type": "execute_result"
    }
   ],
   "source": [
    "a"
   ]
  },
  {
   "cell_type": "code",
   "execution_count": 117,
   "id": "71ea9d29",
   "metadata": {},
   "outputs": [
    {
     "name": "stdout",
     "output_type": "stream",
     "text": [
      "The dict is{\"a\":\"b\"}\n"
     ]
    },
    {
     "ename": "ValueError",
     "evalue": "dictionary update sequence element #0 has length 1; 2 is required",
     "output_type": "error",
     "traceback": [
      "\u001b[1;31m---------------------------------------------------------------------------\u001b[0m",
      "\u001b[1;31mValueError\u001b[0m                                Traceback (most recent call last)",
      "\u001b[1;32m<ipython-input-117-0a4eb47db06e>\u001b[0m in \u001b[0;36m<module>\u001b[1;34m\u001b[0m\n\u001b[1;32m----> 1\u001b[1;33m \u001b[0md\u001b[0m \u001b[1;33m=\u001b[0m \u001b[0mdict\u001b[0m\u001b[1;33m(\u001b[0m\u001b[0minput\u001b[0m\u001b[1;33m(\u001b[0m\u001b[1;34m\"The dict is\"\u001b[0m\u001b[1;33m)\u001b[0m\u001b[1;33m)\u001b[0m\u001b[1;33m\u001b[0m\u001b[1;33m\u001b[0m\u001b[0m\n\u001b[0m",
      "\u001b[1;31mValueError\u001b[0m: dictionary update sequence element #0 has length 1; 2 is required"
     ]
    }
   ],
   "source": [
    "d = dict(input(\"The dict is\"))"
   ]
  },
  {
   "cell_type": "code",
   "execution_count": 127,
   "id": "c9895cb4",
   "metadata": {},
   "outputs": [
    {
     "name": "stdout",
     "output_type": "stream",
     "text": [
      "a prem\n"
     ]
    }
   ],
   "source": [
    "n = 1\n",
    "d = dict(input().split() for _ in range(n))\n",
    "list_d = list(d.values())"
   ]
  },
  {
   "cell_type": "code",
   "execution_count": 128,
   "id": "173773e2",
   "metadata": {},
   "outputs": [
    {
     "data": {
      "text/plain": [
       "['prem']"
      ]
     },
     "execution_count": 128,
     "metadata": {},
     "output_type": "execute_result"
    }
   ],
   "source": [
    "list_d"
   ]
  },
  {
   "cell_type": "code",
   "execution_count": 131,
   "id": "70bd6ba4",
   "metadata": {},
   "outputs": [],
   "source": [
    "def dict_list(n):\n",
    "    \n",
    "    d = dict(input().split() for _ in range(n))\n",
    "    list_d = list(d.values())\n",
    "    return list_d\n",
    "    "
   ]
  },
  {
   "cell_type": "code",
   "execution_count": 132,
   "id": "581eedd9",
   "metadata": {},
   "outputs": [
    {
     "name": "stdout",
     "output_type": "stream",
     "text": [
      "a prem\n",
      "b varma\n"
     ]
    },
    {
     "data": {
      "text/plain": [
       "['prem', 'varma']"
      ]
     },
     "execution_count": 132,
     "metadata": {},
     "output_type": "execute_result"
    }
   ],
   "source": [
    "dict_list(2)"
   ]
  },
  {
   "cell_type": "code",
   "execution_count": 143,
   "id": "38628070",
   "metadata": {},
   "outputs": [
    {
     "ename": "SyntaxError",
     "evalue": "unexpected EOF while parsing (<ipython-input-143-a6d2b1d9f337>, line 6)",
     "output_type": "error",
     "traceback": [
      "\u001b[1;36m  File \u001b[1;32m\"<ipython-input-143-a6d2b1d9f337>\"\u001b[1;36m, line \u001b[1;32m6\u001b[0m\n\u001b[1;33m    \u001b[0m\n\u001b[1;37m    ^\u001b[0m\n\u001b[1;31mSyntaxError\u001b[0m\u001b[1;31m:\u001b[0m unexpected EOF while parsing\n"
     ]
    }
   ],
   "source": [
    "def first(a):\n",
    "    def second(b):\n",
    "        return a+b\n",
    "obj = first(1)\n",
    "print(second(5)\n",
    "       "
   ]
  },
  {
   "cell_type": "code",
   "execution_count": 141,
   "id": "896ba025",
   "metadata": {},
   "outputs": [],
   "source": [
    "first(12)"
   ]
  },
  {
   "cell_type": "code",
   "execution_count": 142,
   "id": "ee4126b1",
   "metadata": {},
   "outputs": [
    {
     "ename": "NameError",
     "evalue": "name 'second' is not defined",
     "output_type": "error",
     "traceback": [
      "\u001b[1;31m---------------------------------------------------------------------------\u001b[0m",
      "\u001b[1;31mNameError\u001b[0m                                 Traceback (most recent call last)",
      "\u001b[1;32m<ipython-input-142-3c42d42d7763>\u001b[0m in \u001b[0;36m<module>\u001b[1;34m\u001b[0m\n\u001b[1;32m----> 1\u001b[1;33m \u001b[0msecond\u001b[0m\u001b[1;33m(\u001b[0m\u001b[1;36m12\u001b[0m\u001b[1;33m)\u001b[0m\u001b[1;33m\u001b[0m\u001b[1;33m\u001b[0m\u001b[0m\n\u001b[0m",
      "\u001b[1;31mNameError\u001b[0m: name 'second' is not defined"
     ]
    }
   ],
   "source": [
    "second(12)"
   ]
  },
  {
   "cell_type": "code",
   "execution_count": null,
   "id": "2b346aa3",
   "metadata": {},
   "outputs": [],
   "source": []
  }
 ],
 "metadata": {
  "kernelspec": {
   "display_name": "Python 3",
   "language": "python",
   "name": "python3"
  },
  "language_info": {
   "codemirror_mode": {
    "name": "ipython",
    "version": 3
   },
   "file_extension": ".py",
   "mimetype": "text/x-python",
   "name": "python",
   "nbconvert_exporter": "python",
   "pygments_lexer": "ipython3",
   "version": "3.7.11"
  }
 },
 "nbformat": 4,
 "nbformat_minor": 5
}
